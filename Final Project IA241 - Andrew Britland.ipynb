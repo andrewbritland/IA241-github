{
 "cells": [
  {
   "cell_type": "markdown",
   "id": "766c65e4",
   "metadata": {},
   "source": [
    "# Final Project IA241 - Andrew Britland"
   ]
  },
  {
   "cell_type": "markdown",
   "id": "b8b7dc3f",
   "metadata": {},
   "source": [
    "## Data Source"
   ]
  },
  {
   "cell_type": "code",
   "execution_count": 5,
   "id": "b067c6a1",
   "metadata": {},
   "outputs": [],
   "source": [
    "%matplotlib inline\n",
    "import pandas"
   ]
  },
  {
   "cell_type": "markdown",
   "id": "a7870e15",
   "metadata": {},
   "source": [
    "## Quick view of Data"
   ]
  },
  {
   "cell_type": "code",
   "execution_count": 6,
   "id": "af19389c",
   "metadata": {},
   "outputs": [
    {
     "data": {
      "text/html": [
       "<div>\n",
       "<style scoped>\n",
       "    .dataframe tbody tr th:only-of-type {\n",
       "        vertical-align: middle;\n",
       "    }\n",
       "\n",
       "    .dataframe tbody tr th {\n",
       "        vertical-align: top;\n",
       "    }\n",
       "\n",
       "    .dataframe thead th {\n",
       "        text-align: right;\n",
       "    }\n",
       "</style>\n",
       "<table border=\"1\" class=\"dataframe\">\n",
       "  <thead>\n",
       "    <tr style=\"text-align: right;\">\n",
       "      <th></th>\n",
       "      <th>dateRep</th>\n",
       "      <th>day</th>\n",
       "      <th>month</th>\n",
       "      <th>year</th>\n",
       "      <th>cases</th>\n",
       "      <th>deaths</th>\n",
       "      <th>countriesAndTerritories</th>\n",
       "      <th>geoId</th>\n",
       "      <th>countryterritoryCode</th>\n",
       "      <th>popData2019</th>\n",
       "      <th>continentExp</th>\n",
       "      <th>Cumulative_number_for_14_days_of_COVID-19_cases_per_100000</th>\n",
       "    </tr>\n",
       "  </thead>\n",
       "  <tbody>\n",
       "    <tr>\n",
       "      <th>0</th>\n",
       "      <td>14/12/2020</td>\n",
       "      <td>14</td>\n",
       "      <td>12</td>\n",
       "      <td>2020</td>\n",
       "      <td>746</td>\n",
       "      <td>6</td>\n",
       "      <td>Afghanistan</td>\n",
       "      <td>AF</td>\n",
       "      <td>AFG</td>\n",
       "      <td>38041757.0</td>\n",
       "      <td>Asia</td>\n",
       "      <td>9.013779</td>\n",
       "    </tr>\n",
       "    <tr>\n",
       "      <th>1</th>\n",
       "      <td>13/12/2020</td>\n",
       "      <td>13</td>\n",
       "      <td>12</td>\n",
       "      <td>2020</td>\n",
       "      <td>298</td>\n",
       "      <td>9</td>\n",
       "      <td>Afghanistan</td>\n",
       "      <td>AF</td>\n",
       "      <td>AFG</td>\n",
       "      <td>38041757.0</td>\n",
       "      <td>Asia</td>\n",
       "      <td>7.052776</td>\n",
       "    </tr>\n",
       "    <tr>\n",
       "      <th>2</th>\n",
       "      <td>2020-12-12 00:00:00</td>\n",
       "      <td>12</td>\n",
       "      <td>12</td>\n",
       "      <td>2020</td>\n",
       "      <td>113</td>\n",
       "      <td>11</td>\n",
       "      <td>Afghanistan</td>\n",
       "      <td>AF</td>\n",
       "      <td>AFG</td>\n",
       "      <td>38041757.0</td>\n",
       "      <td>Asia</td>\n",
       "      <td>6.868768</td>\n",
       "    </tr>\n",
       "    <tr>\n",
       "      <th>3</th>\n",
       "      <td>2020-11-12 00:00:00</td>\n",
       "      <td>11</td>\n",
       "      <td>12</td>\n",
       "      <td>2020</td>\n",
       "      <td>63</td>\n",
       "      <td>10</td>\n",
       "      <td>Afghanistan</td>\n",
       "      <td>AF</td>\n",
       "      <td>AFG</td>\n",
       "      <td>38041757.0</td>\n",
       "      <td>Asia</td>\n",
       "      <td>7.134266</td>\n",
       "    </tr>\n",
       "    <tr>\n",
       "      <th>4</th>\n",
       "      <td>2020-10-12 00:00:00</td>\n",
       "      <td>10</td>\n",
       "      <td>12</td>\n",
       "      <td>2020</td>\n",
       "      <td>202</td>\n",
       "      <td>16</td>\n",
       "      <td>Afghanistan</td>\n",
       "      <td>AF</td>\n",
       "      <td>AFG</td>\n",
       "      <td>38041757.0</td>\n",
       "      <td>Asia</td>\n",
       "      <td>6.968658</td>\n",
       "    </tr>\n",
       "    <tr>\n",
       "      <th>5</th>\n",
       "      <td>2020-09-12 00:00:00</td>\n",
       "      <td>9</td>\n",
       "      <td>12</td>\n",
       "      <td>2020</td>\n",
       "      <td>135</td>\n",
       "      <td>13</td>\n",
       "      <td>Afghanistan</td>\n",
       "      <td>AF</td>\n",
       "      <td>AFG</td>\n",
       "      <td>38041757.0</td>\n",
       "      <td>Asia</td>\n",
       "      <td>6.963401</td>\n",
       "    </tr>\n",
       "    <tr>\n",
       "      <th>6</th>\n",
       "      <td>2020-08-12 00:00:00</td>\n",
       "      <td>8</td>\n",
       "      <td>12</td>\n",
       "      <td>2020</td>\n",
       "      <td>200</td>\n",
       "      <td>6</td>\n",
       "      <td>Afghanistan</td>\n",
       "      <td>AF</td>\n",
       "      <td>AFG</td>\n",
       "      <td>38041757.0</td>\n",
       "      <td>Asia</td>\n",
       "      <td>7.094835</td>\n",
       "    </tr>\n",
       "    <tr>\n",
       "      <th>7</th>\n",
       "      <td>2020-07-12 00:00:00</td>\n",
       "      <td>7</td>\n",
       "      <td>12</td>\n",
       "      <td>2020</td>\n",
       "      <td>210</td>\n",
       "      <td>26</td>\n",
       "      <td>Afghanistan</td>\n",
       "      <td>AF</td>\n",
       "      <td>AFG</td>\n",
       "      <td>38041757.0</td>\n",
       "      <td>Asia</td>\n",
       "      <td>7.215755</td>\n",
       "    </tr>\n",
       "    <tr>\n",
       "      <th>8</th>\n",
       "      <td>2020-06-12 00:00:00</td>\n",
       "      <td>6</td>\n",
       "      <td>12</td>\n",
       "      <td>2020</td>\n",
       "      <td>234</td>\n",
       "      <td>10</td>\n",
       "      <td>Afghanistan</td>\n",
       "      <td>AF</td>\n",
       "      <td>AFG</td>\n",
       "      <td>38041757.0</td>\n",
       "      <td>Asia</td>\n",
       "      <td>7.326160</td>\n",
       "    </tr>\n",
       "    <tr>\n",
       "      <th>9</th>\n",
       "      <td>2020-05-12 00:00:00</td>\n",
       "      <td>5</td>\n",
       "      <td>12</td>\n",
       "      <td>2020</td>\n",
       "      <td>235</td>\n",
       "      <td>18</td>\n",
       "      <td>Afghanistan</td>\n",
       "      <td>AF</td>\n",
       "      <td>AFG</td>\n",
       "      <td>38041757.0</td>\n",
       "      <td>Asia</td>\n",
       "      <td>7.115865</td>\n",
       "    </tr>\n",
       "  </tbody>\n",
       "</table>\n",
       "</div>"
      ],
      "text/plain": [
       "               dateRep  day  month  year  cases  deaths  \\\n",
       "0           14/12/2020   14     12  2020    746       6   \n",
       "1           13/12/2020   13     12  2020    298       9   \n",
       "2  2020-12-12 00:00:00   12     12  2020    113      11   \n",
       "3  2020-11-12 00:00:00   11     12  2020     63      10   \n",
       "4  2020-10-12 00:00:00   10     12  2020    202      16   \n",
       "5  2020-09-12 00:00:00    9     12  2020    135      13   \n",
       "6  2020-08-12 00:00:00    8     12  2020    200       6   \n",
       "7  2020-07-12 00:00:00    7     12  2020    210      26   \n",
       "8  2020-06-12 00:00:00    6     12  2020    234      10   \n",
       "9  2020-05-12 00:00:00    5     12  2020    235      18   \n",
       "\n",
       "  countriesAndTerritories geoId countryterritoryCode  popData2019  \\\n",
       "0             Afghanistan    AF                  AFG   38041757.0   \n",
       "1             Afghanistan    AF                  AFG   38041757.0   \n",
       "2             Afghanistan    AF                  AFG   38041757.0   \n",
       "3             Afghanistan    AF                  AFG   38041757.0   \n",
       "4             Afghanistan    AF                  AFG   38041757.0   \n",
       "5             Afghanistan    AF                  AFG   38041757.0   \n",
       "6             Afghanistan    AF                  AFG   38041757.0   \n",
       "7             Afghanistan    AF                  AFG   38041757.0   \n",
       "8             Afghanistan    AF                  AFG   38041757.0   \n",
       "9             Afghanistan    AF                  AFG   38041757.0   \n",
       "\n",
       "  continentExp  Cumulative_number_for_14_days_of_COVID-19_cases_per_100000  \n",
       "0         Asia                                           9.013779           \n",
       "1         Asia                                           7.052776           \n",
       "2         Asia                                           6.868768           \n",
       "3         Asia                                           7.134266           \n",
       "4         Asia                                           6.968658           \n",
       "5         Asia                                           6.963401           \n",
       "6         Asia                                           7.094835           \n",
       "7         Asia                                           7.215755           \n",
       "8         Asia                                           7.326160           \n",
       "9         Asia                                           7.115865           "
      ]
     },
     "execution_count": 6,
     "metadata": {},
     "output_type": "execute_result"
    }
   ],
   "source": [
    "df = pandas.read_excel('s3://britland-ia-241-spring-2021/covid_data.xls')\n",
    "df [:10]"
   ]
  },
  {
   "cell_type": "markdown",
   "id": "e246c658",
   "metadata": {},
   "source": [
    "## Proportion of people infected in each continent"
   ]
  },
  {
   "cell_type": "code",
   "execution_count": 7,
   "id": "6356b969",
   "metadata": {},
   "outputs": [
    {
     "data": {
      "text/plain": [
       "array(['Asia', 'Europe', 'Africa', 'America', 'Oceania', 'Other'],\n",
       "      dtype=object)"
      ]
     },
     "execution_count": 7,
     "metadata": {},
     "output_type": "execute_result"
    }
   ],
   "source": [
    "pandas.unique(df['continentExp'])"
   ]
  },
  {
   "cell_type": "markdown",
   "id": "5c192b5e",
   "metadata": {},
   "source": [
    "### Number of cases in each continent"
   ]
  },
  {
   "cell_type": "code",
   "execution_count": 48,
   "id": "7d1bb11c",
   "metadata": {
    "scrolled": true
   },
   "outputs": [
    {
     "data": {
      "text/plain": [
       "<AxesSubplot:xlabel='continentExp'>"
      ]
     },
     "execution_count": 48,
     "metadata": {},
     "output_type": "execute_result"
    },
    {
     "data": {
      "image/png": "[encoded data removed]",
      "text/plain": [
       "<Figure size 432x288 with 1 Axes>"
      ]
     },
     "metadata": {
      "needs_background": "light"
     },
     "output_type": "display_data"
    }
   ],
   "source": [
    "continental_cases = df.groupby('continentExp').sum()['cases']\n",
    "continental_cases.plot.bar()"
   ]
  },
  {
   "cell_type": "markdown",
   "id": "1058f48e",
   "metadata": {},
   "source": [
    "### Population of each continent"
   ]
  },
  {
   "cell_type": "code",
   "execution_count": 111,
   "id": "6567079f",
   "metadata": {
    "scrolled": true
   },
   "outputs": [
    {
     "name": "stdout",
     "output_type": "stream",
     "text": [
      "The population of Asia is 4460056021.0\n",
      "The population of Africa is 1306903030.0\n",
      "The population of America is 1013601796.0\n",
      "The population of Europe is 848216220.0\n",
      "The population of Oceania is nan\n"
     ]
    }
   ],
   "source": [
    "Asia_data = df.loc[ df['continentExp']=='Asia']\n",
    "Africa_data = df.loc[ df['continentExp']=='Africa']\n",
    "America_data = df.loc[ df['continentExp']=='America']\n",
    "Europe_data = df.loc[ df['continentExp']=='Europe']\n",
    "Oceania_data = df.loc[ df['continentExp']=='Oceania']\n",
    "Other_data = df.loc[ df['continentExp']=='Other']\n",
    "\n",
    "pandas.unique(Asia_data['countriesAndTerritories'])\n",
    "Asia_pop = Asia_data.groupby('countriesAndTerritories').mean()['popData2019']\n",
    "Asia_cases = Asia_data.sum()['cases']\n",
    "Sum_Asia_Pop = sum(Asia_pop)\n",
    "print('The population of Asia is', sum(Asia_pop))\n",
    "#print(Sum_Asia_Pop)\n",
    "#print(Asia_cases)\n",
    "\n",
    "pandas.unique(Africa_data['countriesAndTerritories'])\n",
    "Africa_pop = Africa_data.groupby('countriesAndTerritories').mean()['popData2019']\n",
    "Africa_cases = Africa_data.sum()['cases']\n",
    "Sum_Africa_Pop = sum(Africa_pop)\n",
    "print('The population of Africa is', sum(Africa_pop))\n",
    "#print(sum(Africa_pop))\n",
    "#print(Africa_cases)\n",
    "\n",
    "pandas.unique(America_data['countriesAndTerritories'])\n",
    "America_pop = America_data.groupby('countriesAndTerritories').mean()['popData2019']\n",
    "America_cases = America_data.sum()['cases']\n",
    "Sum_America_Pop = sum(America_pop)\n",
    "print('The population of America is', sum(America_pop))\n",
    "#print(sum(America_pop))\n",
    "#print(America_cases)\n",
    "\n",
    "pandas.unique(Europe_data['countriesAndTerritories'])\n",
    "Europe_pop = Europe_data.groupby('countriesAndTerritories').mean()['popData2019']\n",
    "Europe_cases = Europe_data.sum()['cases']\n",
    "Sum_Europe_Pop = sum(Europe_pop)\n",
    "print('The population of Europe is', sum(Europe_pop))\n",
    "#print(sum(Europe_pop))\n",
    "#print(Europe_cases)\n",
    "\n",
    "pandas.unique(Other_data['countriesAndTerritories'])\n",
    "Oceania_pop = Oceania_data.groupby('countriesAndTerritories').mean()['popData2019']\n",
    "Oceania_cases = Oceania_data.sum()['cases']\n",
    "Sum_Oceania_Pop = sum(Oceania_pop)\n",
    "print('The population of Oceania is', sum(Oceania_pop))\n",
    "#print(Oceania_cases)\n",
    "\n"
   ]
  },
  {
   "cell_type": "markdown",
   "id": "8981a90f",
   "metadata": {},
   "source": [
    "### Comparison of proportion of continents infected"
   ]
  },
  {
   "cell_type": "code",
   "execution_count": 107,
   "id": "b330ff7e",
   "metadata": {},
   "outputs": [
    {
     "data": {
      "image/png": "[encoded data removed]",
      "text/plain": [
       "<Figure size 432x288 with 1 Axes>"
      ]
     },
     "metadata": {
      "needs_background": "light"
     },
     "output_type": "display_data"
    }
   ],
   "source": [
    "Asia_trend = Asia_cases/Sum_Asia_Pop\n",
    "Africa_trend = Africa_cases/Sum_Africa_Pop\n",
    "America_trend = America_cases/Sum_America_Pop\n",
    "Europe_trend = Europe_cases/Sum_Europe_Pop\n",
    "Oceania_trend = Oceania_cases/Sum_Oceania_Pop\n",
    "Country_Trends = Asia_trend,Africa_trend,America_trend,Europe_trend,Oceania_trend\n",
    "#print(Country_Trends)\n",
    "import matplotlib.pyplot as plt\n",
    "Country_List = [('Asia', Asia_trend),('Africa',Africa_trend),('America',America_trend),('Europe',Europe_trend),('Oceania',Oceania_trend)]\n",
    "from math import log\n",
    "Country_List2 = [(elem1, elem2) for elem1, elem2 in Country_List]\n",
    "zip(*Country_List2)\n",
    "plt.bar(*zip(*Country_List2))\n",
    "plt.show()"
   ]
  },
  {
   "cell_type": "markdown",
   "id": "2feb6766",
   "metadata": {},
   "source": [
    "## Highest and lowest cases divided by population"
   ]
  },
  {
   "cell_type": "code",
   "execution_count": 31,
   "id": "cc322515",
   "metadata": {},
   "outputs": [],
   "source": [
    "sum_cases_per_country=df.groupby('countriesAndTerritories').sum()['cases']"
   ]
  },
  {
   "cell_type": "code",
   "execution_count": 34,
   "id": "b6092bb2",
   "metadata": {},
   "outputs": [],
   "source": [
    "pop_per_country=df.groupby('countriesAndTerritories').mean()['popData2019']"
   ]
  },
  {
   "cell_type": "code",
   "execution_count": 35,
   "id": "3f5de179",
   "metadata": {},
   "outputs": [],
   "source": [
    "prop_per_country=sum_cases_per_country/pop_per_country"
   ]
  },
  {
   "cell_type": "markdown",
   "id": "0450e2c5",
   "metadata": {},
   "source": [
    "### Top 10 countries with highest percent of population infected over time"
   ]
  },
  {
   "cell_type": "code",
   "execution_count": 36,
   "id": "d7d6080c",
   "metadata": {},
   "outputs": [
    {
     "data": {
      "text/plain": [
       "<AxesSubplot:xlabel='countriesAndTerritories'>"
      ]
     },
     "execution_count": 36,
     "metadata": {},
     "output_type": "execute_result"
    },
    {
     "data": {
      "image/png": "[encoded data removed]",
      "text/plain": [
       "<Figure size 432x288 with 1 Axes>"
      ]
     },
     "metadata": {
      "needs_background": "light"
     },
     "output_type": "display_data"
    }
   ],
   "source": [
    "prop_per_country.nlargest(10).plot.bar()"
   ]
  },
  {
   "cell_type": "markdown",
   "id": "38c80855",
   "metadata": {},
   "source": [
    "### Top 10 countries with lowest percent of population infected over time"
   ]
  },
  {
   "cell_type": "code",
   "execution_count": 38,
   "id": "ee88d2db",
   "metadata": {},
   "outputs": [
    {
     "data": {
      "text/plain": [
       "<AxesSubplot:xlabel='countriesAndTerritories'>"
      ]
     },
     "execution_count": 38,
     "metadata": {},
     "output_type": "execute_result"
    },
    {
     "data": {
      "image/png": "[encoded data removed]",
      "text/plain": [
       "<Figure size 432x288 with 1 Axes>"
      ]
     },
     "metadata": {
      "needs_background": "light"
     },
     "output_type": "display_data"
    }
   ],
   "source": [
    "prop_per_country.nsmallest(10).plot.bar()"
   ]
  },
  {
   "cell_type": "markdown",
   "id": "b1a7317e",
   "metadata": {},
   "source": [
    "## Months with highest and lowest global cases"
   ]
  },
  {
   "cell_type": "code",
   "execution_count": 39,
   "id": "bd59fb43",
   "metadata": {},
   "outputs": [],
   "source": [
    "sum_monthly_cases=df.groupby('month').sum()['cases']"
   ]
  },
  {
   "cell_type": "code",
   "execution_count": 40,
   "id": "ea8f22b8",
   "metadata": {},
   "outputs": [
    {
     "data": {
      "text/plain": [
       "<AxesSubplot:xlabel='month'>"
      ]
     },
     "execution_count": 40,
     "metadata": {},
     "output_type": "execute_result"
    },
    {
     "data": {
      "image/png": "[encoded data removed]",
      "text/plain": [
       "<Figure size 432x288 with 1 Axes>"
      ]
     },
     "metadata": {
      "needs_background": "light"
     },
     "output_type": "display_data"
    }
   ],
   "source": [
    "sum_monthly_cases.plot.bar()"
   ]
  },
  {
   "cell_type": "code",
   "execution_count": null,
   "id": "20aa790d",
   "metadata": {},
   "outputs": [],
   "source": []
  }
 ],
 "metadata": {
  "kernelspec": {
   "display_name": "conda_python3",
   "language": "python",
   "name": "conda_python3"
  },
  "language_info": {
   "codemirror_mode": {
    "name": "ipython",
    "version": 3
   },
   "file_extension": ".py",
   "mimetype": "text/x-python",
   "name": "python",
   "nbconvert_exporter": "python",
   "pygments_lexer": "ipython3",
   "version": "3.6.13"
  }
 },
 "nbformat": 4,
 "nbformat_minor": 5
}
